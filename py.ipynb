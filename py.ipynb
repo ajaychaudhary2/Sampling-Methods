{
 "cells": [
  {
   "cell_type": "code",
   "execution_count": 2,
   "metadata": {},
   "outputs": [],
   "source": [
    "import pandas as pd\n",
    "import numpy as np"
   ]
  },
  {
   "cell_type": "markdown",
   "metadata": {},
   "source": [
    "# simple random sampling"
   ]
  },
  {
   "cell_type": "code",
   "execution_count": 8,
   "metadata": {},
   "outputs": [
    {
     "name": "stdout",
     "output_type": "stream",
     "text": [
      "Simple random samples\n",
      " PassengerId  Survived  Pclass                                            Name    Sex  Age  SibSp  Parch     Ticket     Fare           Cabin Embarked\n",
      "         187         1       3 O'Brien, Mrs. Thomas (Johanna \"Hannah\" Godfrey) female  NaN      1      0     370365  15.5000             NaN        Q\n",
      "         822         1       3                               Lulic, Mr. Nikola   male 27.0      0      0     315098   8.6625             NaN        S\n",
      "         235         0       2               Leyson, Mr. Robert William Norman   male 24.0      0      0 C.A. 29566  10.5000             NaN        S\n",
      "         240         0       2                          Hunt, Mr. George Henry   male 33.0      0      0 SCO/W 1585  12.2750             NaN        S\n",
      "         698         1       3                Mullens, Miss. Katherine \"Katie\" female  NaN      0      0      35852   7.7333             NaN        Q\n",
      "         412         0       3                                 Hart, Mr. Henry   male  NaN      0      0     394140   6.8583             NaN        Q\n",
      "         684         0       3                     Goodwin, Mr. Charles Edward   male 14.0      5      2    CA 2144  46.9000             NaN        S\n",
      "         683         0       3                     Olsvigen, Mr. Thor Anderson   male 20.0      0      0       6563   9.2250             NaN        S\n",
      "         142         1       3                        Nysten, Miss. Anna Sofia female 22.0      0      0     347081   7.7500             NaN        S\n",
      "         865         0       2                          Gill, Mr. John William   male 24.0      0      0     233866  13.0000             NaN        S\n",
      "         718         1       2             Troutt, Miss. Edwina Celia \"Winnie\" female 27.0      0      0      34218  10.5000            E101        S\n",
      "         878         0       3                            Petroff, Mr. Nedelio   male 19.0      0      0     349212   7.8958             NaN        S\n",
      "           4         1       1    Futrelle, Mrs. Jacques Heath (Lily May Peel) female 35.0      1      0     113803  53.1000            C123        S\n",
      "         743         1       1           Ryerson, Miss. Susan Parker \"Suzette\" female 21.0      2      2   PC 17608 262.3750 B57 B59 B63 B66        C\n",
      "         204         0       3                            Youseff, Mr. Gerious   male 45.5      0      0       2628   7.2250             NaN        C\n"
     ]
    }
   ],
   "source": [
    "# import the csv file\n",
    "population = pd.read_csv(\"titanic_train.csv\")\n",
    "\n",
    "# sample data\n",
    "sample_num = 15\n",
    "\n",
    "#collecting the random samples   in var  simple_ramndom_sample\n",
    "simple_ramdom_sample = population.sample(sample_num)\n",
    "\n",
    "\n",
    "# print the DATA\n",
    "print(\"Simple random samples\")\n",
    "\n",
    "print(simple_ramdom_sample.to_string(index=False))\n",
    "\n"
   ]
  },
  {
   "cell_type": "markdown",
   "metadata": {},
   "source": []
  },
  {
   "cell_type": "markdown",
   "metadata": {},
   "source": [
    "# systemetic sampling (every kth membner of population is selected)"
   ]
  },
  {
   "cell_type": "code",
   "execution_count": 9,
   "metadata": {},
   "outputs": [
    {
     "name": "stdout",
     "output_type": "stream",
     "text": [
      "Systemetric samples\n",
      " PassengerId  Survived  Pclass                                       Name    Sex   Age  SibSp  Parch            Ticket     Fare   Cabin Embarked\n",
      "          16         1       2           Hewlett, Mrs. (Mary D Kingcome)  female 55.00      0      0            248706  16.0000     NaN        S\n",
      "          36         0       1             Holverson, Mr. Alexander Oskar   male 42.00      1      0            113789  52.0000     NaN        S\n",
      "          56         1       1                          Woolner, Mr. Hugh   male   NaN      0      0             19947  35.5000     C52        S\n",
      "          76         0       3                    Moen, Mr. Sigurd Hansen   male 25.00      0      0            348123   7.6500   F G73        S\n",
      "          96         0       3                Shorney, Mr. Charles Joseph   male   NaN      0      0            374910   8.0500     NaN        S\n",
      "         116         0       3                      Pekoniemi, Mr. Edvard   male 21.00      0      0 STON/O 2. 3101294   7.9250     NaN        S\n",
      "         136         0       2                         Richard, Mr. Emile   male 23.00      0      0     SC/PARIS 2133  15.0458     NaN        C\n",
      "         156         0       1                Williams, Mr. Charles Duane   male 51.00      0      1          PC 17597  61.3792     NaN        C\n",
      "         176         0       3                     Klasen, Mr. Klas Albin   male 18.00      1      1            350404   7.8542     NaN        S\n",
      "         196         1       1                       Lurette, Miss. Elise female 58.00      0      0          PC 17569 146.5208     B80        C\n",
      "         216         1       1                    Newell, Miss. Madeleine female 31.00      1      0             35273 113.2750     D36        C\n",
      "         236         0       3               Harknett, Miss. Alice Phoebe female   NaN      0      0        W./C. 6609   7.5500     NaN        S\n",
      "         256         1       3    Touma, Mrs. Darwis (Hanne Youssef Razi) female 29.00      0      2              2650  15.2458     NaN        C\n",
      "         276         1       1          Andrews, Miss. Kornelia Theodosia female 63.00      1      0             13502  77.9583      D7        S\n",
      "         296         0       1                          Lewy, Mr. Ervin G   male   NaN      0      0          PC 17612  27.7208     NaN        C\n",
      "         316         1       3            Nilsson, Miss. Helmina Josefina female 26.00      0      0            347470   7.8542     NaN        S\n",
      "         336         0       3                         Denkoff, Mr. Mitto   male   NaN      0      0            349225   7.8958     NaN        S\n",
      "         356         0       3                Vanden Steen, Mr. Leo Peter   male 28.00      0      0            345783   9.5000     NaN        S\n",
      "         376         1       1      Meyer, Mrs. Edgar Joseph (Leila Saks) female   NaN      1      0          PC 17604  82.1708     NaN        C\n",
      "         396         0       3                        Johansson, Mr. Erik   male 22.00      0      0            350052   7.7958     NaN        S\n",
      "         416         0       3    Meek, Mrs. Thomas (Annie Louise Rowley) female   NaN      0      0            343095   8.0500     NaN        S\n",
      "         436         1       1                  Carter, Miss. Lucile Polk female 14.00      1      2            113760 120.0000 B96 B98        S\n",
      "         456         1       3                         Jalsevac, Mr. Ivan   male 29.00      0      0            349240   7.8958     NaN        C\n",
      "         476         0       1                Clifford, Mr. George Quincy   male   NaN      0      0            110465  52.0000     A14        S\n",
      "         496         0       3                      Yousseff, Mr. Gerious   male   NaN      0      0              2627  14.4583     NaN        C\n",
      "         516         0       1               Walker, Mr. William Anderson   male 47.00      0      0             36967  34.0208     D46        S\n",
      "         536         1       2                     Hart, Miss. Eva Miriam female  7.00      0      2      F.C.C. 13529  26.2500     NaN        S\n",
      "         556         0       1                         Wright, Mr. George   male 62.00      0      0            113807  26.5500     NaN        S\n",
      "         576         0       3                       Patchett, Mr. George   male 19.00      0      0            358585  14.5000     NaN        S\n",
      "         596         0       3                Van Impe, Mr. Jean Baptiste   male 36.00      1      1            345773  24.1500     NaN        S\n",
      "         616         1       2                        Herman, Miss. Alice female 24.00      1      2            220845  65.0000     NaN        S\n",
      "         636         1       2                          Davis, Miss. Mary female 28.00      0      0            237668  13.0000     NaN        S\n",
      "         656         0       2                  Hickman, Mr. Leonard Mark   male 24.00      2      0      S.O.C. 14879  73.5000     NaN        S\n",
      "         676         0       3             Edvardsson, Mr. Gustaf Hjalmar   male 18.00      0      0            349912   7.7750     NaN        S\n",
      "         696         0       2                 Chapman, Mr. Charles Henry   male 52.00      0      0            248731  13.5000     NaN        S\n",
      "         716         0       3 Soholt, Mr. Peter Andreas Lauritz Andersen   male 19.00      0      0            348124   7.6500   F G73        S\n",
      "         736         0       3                       Williams, Mr. Leslie   male 28.50      0      0             54636  16.1000     NaN        S\n",
      "         756         1       2                  Hamalainen, Master. Viljo   male  0.67      1      1            250649  14.5000     NaN        S\n",
      "         776         0       3    Myhrman, Mr. Pehr Fabian Oliver Malkolm   male 18.00      0      0            347078   7.7500     NaN        S\n",
      "         796         0       2                         Otter, Mr. Richard   male 39.00      0      0             28213  13.0000     NaN        S\n",
      "         816         0       1                           Fry, Mr. Richard   male   NaN      0      0            112058   0.0000    B102        S\n",
      "         836         1       1                Compton, Miss. Sara Rebecca female 39.00      1      1          PC 17756  83.1583     E49        C\n",
      "         856         1       3                 Aks, Mrs. Sam (Leah Rosen) female 18.00      0      1            392091   9.3500     NaN        S\n",
      "         876         1       3           Najib, Miss. Adele Kiamie \"Jane\" female 15.00      0      0              2667   7.2250     NaN        C\n"
     ]
    }
   ],
   "source": [
    "# import the csv file\n",
    "population = pd.read_csv(\"titanic_train.csv\")\n",
    "\n",
    "# Define k \n",
    "k= 20\n",
    "\n",
    "#define start value\n",
    "start = np.random.randint(0,k)\n",
    "\n",
    "#systemetic_sampling\n",
    "systemetic_sampling = population.iloc[start::k]\n",
    "\n",
    "#print the sample data\n",
    "print(\"Systemetric samples\")\n",
    "\n",
    "print(systemetic_sampling.to_string(index=False))"
   ]
  },
  {
   "cell_type": "markdown",
   "metadata": {},
   "source": [
    "# startify sampling"
   ]
  },
  {
   "cell_type": "code",
   "execution_count": 10,
   "metadata": {},
   "outputs": [
    {
     "name": "stdout",
     "output_type": "stream",
     "text": [
      "Startified samples\n",
      " PassengerId  Survived  Pclass                                                 Name    Sex  Age  SibSp  Parch       Ticket     Fare Cabin Embarked\n",
      "         738         1       1                               Lesurer, Mr. Gustave J   male 35.0      0      0     PC 17755 512.3292  B101        C\n",
      "         413         1       1                               Minahan, Miss. Daisy E female 33.0      1      0        19928  90.0000   C78        Q\n",
      "         338         1       1                      Burns, Miss. Elizabeth Margaret female 41.0      0      0        16966 134.5000   E40        C\n",
      "         600         1       1         Duff Gordon, Sir. Cosmo Edmund (\"Mr Morgan\")   male 49.0      1      0     PC 17485  56.9292   A20        C\n",
      "         857         1       1           Wick, Mrs. George Dennick (Mary Hitchcock) female 45.0      1      1        36928 164.8667   NaN        S\n",
      "         398         0       2                              McKane, Mr. Peter David   male 46.0      0      0        28403  26.0000   NaN        S\n",
      "         451         0       2                                West, Mr. Edwy Arthur   male 36.0      1      2   C.A. 34651  27.7500   NaN        S\n",
      "         733         0       2                                 Knight, Mr. Robert J   male  NaN      0      0       239855   0.0000   NaN        S\n",
      "         386         0       2                            Davies, Mr. Charles Henry   male 18.0      0      0 S.O.C. 14879  73.5000   NaN        S\n",
      "         530         0       2                          Hocking, Mr. Richard George   male 23.0      2      1        29104  11.5000   NaN        S\n",
      "           6         0       3                                     Moran, Mr. James   male  NaN      0      0       330877   8.4583   NaN        Q\n",
      "          39         0       3                   Vander Planke, Miss. Augusta Maria female 18.0      2      0       345764  18.0000   NaN        S\n",
      "         366         0       3                       Adahl, Mr. Mauritz Nils Martin   male 30.0      0      0       C 7076   7.2500   NaN        S\n",
      "         800         0       3 Van Impe, Mrs. Jean Baptiste (Rosalie Paula Govaert) female 30.0      1      1       345773  24.1500   NaN        S\n",
      "         295         0       3                                     Mineff, Mr. Ivan   male 24.0      0      0       349233   7.8958   NaN        S\n"
     ]
    },
    {
     "name": "stderr",
     "output_type": "stream",
     "text": [
      "C:\\Users\\91740\\AppData\\Local\\Temp\\ipykernel_16280\\3351697282.py:11: DeprecationWarning: DataFrameGroupBy.apply operated on the grouping columns. This behavior is deprecated, and in a future version of pandas the grouping columns will be excluded from the operation. Either pass `include_groups=False` to exclude the groupings or explicitly select the grouping columns after groupby to silence this warning.\n",
      "  startified_sample = population.groupby(group,group_keys=False).apply(lambda x:x.sample(n_number))\n"
     ]
    }
   ],
   "source": [
    "# define population\n",
    "population = pd.read_csv(\"titanic_train.csv\")\n",
    "\n",
    "# define the group column that we want to startify\n",
    "group = 'Pclass'\n",
    "\n",
    "#number of sample per group\n",
    "n_number = 5\n",
    "\n",
    "# startify sample data\n",
    "startified_sample = population.groupby(group,group_keys=False).apply(lambda x:x.sample(n_number))\n",
    "\n",
    "#print the samples\n",
    "print(\"Startified samples\")\n",
    "\n",
    "print(startified_sample.to_string(index=False))\n",
    "\n"
   ]
  },
  {
   "cell_type": "markdown",
   "metadata": {},
   "source": [
    "# convenience sampling"
   ]
  },
  {
   "cell_type": "code",
   "execution_count": 12,
   "metadata": {},
   "outputs": [
    {
     "name": "stdout",
     "output_type": "stream",
     "text": [
      " PassengerId  Survived  Pclass                                                Name    Sex  Age  SibSp  Parch           Ticket    Fare Cabin Embarked\n",
      "           1         0       3                             Braund, Mr. Owen Harris   male 22.0      1      0        A/5 21171  7.2500   NaN        S\n",
      "           2         1       1 Cumings, Mrs. John Bradley (Florence Briggs Thayer) female 38.0      1      0         PC 17599 71.2833   C85        C\n",
      "           3         1       3                              Heikkinen, Miss. Laina female 26.0      0      0 STON/O2. 3101282  7.9250   NaN        S\n",
      "           4         1       1        Futrelle, Mrs. Jacques Heath (Lily May Peel) female 35.0      1      0           113803 53.1000  C123        S\n",
      "           5         0       3                            Allen, Mr. William Henry   male 35.0      0      0           373450  8.0500   NaN        S\n",
      "           6         0       3                                    Moran, Mr. James   male  NaN      0      0           330877  8.4583   NaN        Q\n",
      "           7         0       1                             McCarthy, Mr. Timothy J   male 54.0      0      0            17463 51.8625   E46        S\n",
      "           8         0       3                      Palsson, Master. Gosta Leonard   male  2.0      3      1           349909 21.0750   NaN        S\n",
      "           9         1       3   Johnson, Mrs. Oscar W (Elisabeth Vilhelmina Berg) female 27.0      0      2           347742 11.1333   NaN        S\n",
      "          10         1       2                 Nasser, Mrs. Nicholas (Adele Achem) female 14.0      1      0           237736 30.0708   NaN        C\n",
      "          11         1       3                     Sandstrom, Miss. Marguerite Rut female  4.0      1      1          PP 9549 16.7000    G6        S\n",
      "          12         1       1                            Bonnell, Miss. Elizabeth female 58.0      0      0           113783 26.5500  C103        S\n",
      "          13         0       3                      Saundercock, Mr. William Henry   male 20.0      0      0        A/5. 2151  8.0500   NaN        S\n",
      "          14         0       3                         Andersson, Mr. Anders Johan   male 39.0      1      5           347082 31.2750   NaN        S\n",
      "          15         0       3                Vestrom, Miss. Hulda Amanda Adolfina female 14.0      0      0           350406  7.8542   NaN        S\n",
      "          16         1       2                    Hewlett, Mrs. (Mary D Kingcome)  female 55.0      0      0           248706 16.0000   NaN        S\n",
      "          17         0       3                                Rice, Master. Eugene   male  2.0      4      1           382652 29.1250   NaN        Q\n",
      "          18         1       2                        Williams, Mr. Charles Eugene   male  NaN      0      0           244373 13.0000   NaN        S\n"
     ]
    }
   ],
   "source": [
    "population = pd.read_csv(\"titanic_train.csv\")\n",
    "\n",
    "convience_samples = population.head(18)\n",
    "\n",
    "print(convience_samples.to_string(index=False))"
   ]
  },
  {
   "cell_type": "markdown",
   "metadata": {},
   "source": [
    "# quota samples"
   ]
  },
  {
   "cell_type": "code",
   "execution_count": 13,
   "metadata": {},
   "outputs": [
    {
     "name": "stdout",
     "output_type": "stream",
     "text": [
      "Quota Samples\n",
      " PassengerId  Survived  Pclass                                                  Name    Sex  Age  SibSp  Parch        Ticket     Fare Cabin Embarked\n",
      "         875         1       2                 Abelson, Mrs. Samuel (Hannah Wizosky) female 28.0      1      0     P/PP 3381  24.0000   NaN        C\n",
      "         519         1       2  Angle, Mrs. William A (Florence \"Mary\" Agnes Hughes) female 36.0      1      0        226875  26.0000   NaN        S\n",
      "         609         1       2 Laroche, Mrs. Joseph (Juliette Marie Louise Lafargue) female 22.0      1      2 SC/Paris 2123  41.5792   NaN        C\n",
      "         259         1       1                                      Ward, Miss. Anna female 35.0      0      0      PC 17755 512.3292   NaN        C\n",
      "         338         1       1                       Burns, Miss. Elizabeth Margaret female 41.0      0      0         16966 134.5000   E40        C\n",
      "         328         1       2                               Ball, Mrs. (Ada E Hall) female 36.0      0      0         28551  13.0000     D        S\n",
      "          58         0       3                                   Novel, Mr. Mansouer   male 28.5      0      0          2697   7.2292   NaN        C\n",
      "         332         0       1                                   Partner, Mr. Austen   male 45.5      0      0        113043  28.5000  C124        S\n",
      "          70         0       3                                     Kink, Mr. Vincenz   male 26.0      2      0        315151   8.6625   NaN        S\n",
      "         145         0       2                            Andrew, Mr. Edgardo Samuel   male 18.0      0      0        231945  11.5000   NaN        S\n",
      "         105         0       3                        Gustafsson, Mr. Anders Vilhelm   male 37.0      2      0       3101276   7.9250   NaN        S\n",
      "         525         0       3                                     Kassem, Mr. Fared   male  NaN      0      0          2700   7.2292   NaN        C\n"
     ]
    }
   ],
   "source": [
    "#populaions data\n",
    "population = pd.read_csv(\"titanic_train.csv\")\n",
    "\n",
    "#quota sampling\n",
    "quota_male = population[population['Sex']== 'male'].sample(6)\n",
    "\n",
    "quota_female = population[population['Sex']== 'female'].sample(6)\n",
    "\n",
    "\n",
    "#concate the quota data\n",
    "quota_samples = pd.concat([quota_female,quota_male])\n",
    "\n",
    "#print the samples\n",
    "print(\"Quota Samples\")\n",
    "\n",
    "print(quota_samples.to_string(index=False))\n",
    "\n"
   ]
  },
  {
   "cell_type": "code",
   "execution_count": null,
   "metadata": {},
   "outputs": [],
   "source": []
  }
 ],
 "metadata": {
  "kernelspec": {
   "display_name": "Python 3",
   "language": "python",
   "name": "python3"
  },
  "language_info": {
   "codemirror_mode": {
    "name": "ipython",
    "version": 3
   },
   "file_extension": ".py",
   "mimetype": "text/x-python",
   "name": "python",
   "nbconvert_exporter": "python",
   "pygments_lexer": "ipython3",
   "version": "3.11.4"
  }
 },
 "nbformat": 4,
 "nbformat_minor": 2
}
